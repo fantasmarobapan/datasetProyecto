{
  "nbformat": 4,
  "nbformat_minor": 0,
  "metadata": {
    "colab": {
      "provenance": []
    },
    "kernelspec": {
      "name": "python3",
      "display_name": "Python 3"
    },
    "language_info": {
      "name": "python"
    }
  },
  "cells": [
    {
      "cell_type": "code",
      "execution_count": 18,
      "metadata": {
        "id": "jtEitDodMtSf"
      },
      "outputs": [],
      "source": [
        "import pandas as pd\n",
        "import numpy as np\n",
        "import matplotlib.pyplot as plt\n",
        "import seaborn as sns\n",
        "from scipy import stats\n",
        "from scipy.stats import ttest_rel"
      ]
    },
    {
      "cell_type": "code",
      "source": [
        "# Cargar los datos, saltando las primeras filas que no son datos de usuarios\n",
        "url = \"https://github.com/fantasmarobapan/datasetProyecto/raw/refs/heads/main/guess_proyecto3_datos.xlsx\"\n",
        "data = pd.read_excel(url, sheet_name=\"Sheet1\")\n",
        "\n",
        "# Mostrar las primeras filas para verificar\n",
        "print(data.head())"
      ],
      "metadata": {
        "colab": {
          "base_uri": "https://localhost:8080/"
        },
        "id": "4DIDjRC9NBmv",
        "outputId": "5d441e1b-54ad-4402-a5f8-0e2b717377ba"
      },
      "execution_count": 19,
      "outputs": [
        {
          "output_type": "stream",
          "name": "stdout",
          "text": [
            "  user_id version  AE1  AE2  AE3  AE4  PE1  PE2  PE3  PE4  ...  US2  US3  US4  \\\n",
            "0  user_1      v1    5    5    4    3    4    5    5    5  ...    4    4    5   \n",
            "1  user_2      v1    5    7    4    4    5    5    4    5  ...    4    3    4   \n",
            "2  user_3      v1    6    5    4    4    6    5    5    5  ...    7    5    4   \n",
            "3  user_4      v1    5    4    5    6    5    6    4    4  ...    6    6    5   \n",
            "4  user_5      v1    5    4    3    5    4    4    5    5  ...    3    3    5   \n",
            "\n",
            "   US5  US6  US7  VA1  VA2  VA3  VA4  \n",
            "0    6    3    6    4    5    5    4  \n",
            "1    3    5    4    4    5    3    4  \n",
            "2    5    5    3    2    5    5    5  \n",
            "3    3    5    3    6    4    4    4  \n",
            "4    5    4    4    4    4    5    5  \n",
            "\n",
            "[5 rows x 47 columns]\n"
          ]
        }
      ]
    },
    {
      "cell_type": "code",
      "source": [
        "# Definir las subdimensiones y sus códigos\n",
        "subdimensiones = {\n",
        "    \"Aesthetics\": [\"AE1\", \"AE2\", \"AE3\", \"AE4\"],\n",
        "    \"Play Engrossment\": [\"PE1\", \"PE2\", \"PE3\", \"PE4\", \"PE5\", \"PE6\", \"PE7\"],\n",
        "    \"Enjoyment\": [\"EN1\", \"EN2\", \"EN3\", \"EN4\", \"EN5\", \"EN6\"],\n",
        "    \"Personal Gratification\": [\"PG1\", \"PG2\", \"PG3\", \"PG4\"],\n",
        "    \"Creative Freedom\": [\"CF1\", \"CF2\", \"CF3\", \"CF4\"],\n",
        "    \"Social Connectivity\": [\"SC1\", \"SC2\", \"SC3\", \"SC4\", \"SC5\"],\n",
        "    \"Narrative\": [\"NA1\", \"NA2\", \"NA3\", \"NA4\"],\n",
        "    \"Usability/Playability\": [\"US1\", \"US2\", \"US3\", \"US4\", \"US5\", \"US6\", \"US7\"],\n",
        "    \"Visual Aesthetics\": [\"VA1\", \"VA2\", \"VA3\", \"VA4\"]\n",
        "}\n",
        "\n",
        "# Separar los datos por versión (v1 y v2)\n",
        "v1_data = data[data[\"version\"] == \"v1\"]\n",
        "v2_data = data[data[\"version\"] == \"v2\"]"
      ],
      "metadata": {
        "id": "nB-hXqXYSbgG"
      },
      "execution_count": 20,
      "outputs": []
    },
    {
      "cell_type": "code",
      "source": [
        "def comparar_promedios_subescalas():\n",
        "    \"\"\"\n",
        "    Calcula y compara los promedios de todas las subescalas para v1 y v2.\n",
        "    Muestra los resultados en una tabla comparativa.\n",
        "    \"\"\"\n",
        "    resultados = []\n",
        "\n",
        "    for subescala, columnas in subdimensiones.items():\n",
        "        # Calcular promedio para v1\n",
        "        promedio_v1 = v1_data[columnas].mean().mean()\n",
        "\n",
        "        # Calcular promedio para v2\n",
        "        promedio_v2 = v2_data[columnas].mean().mean()\n",
        "\n",
        "        # Diferencia entre versiones\n",
        "        diferencia = promedio_v2 - promedio_v1\n",
        "\n",
        "        resultados.append({\n",
        "            'Subescala': subescala,\n",
        "            'Promedio v1': promedio_v1,\n",
        "            'Promedio v2': promedio_v2,\n",
        "            'Diferencia (v2-v1)': diferencia\n",
        "        })\n",
        "\n",
        "    # Crear DataFrame con los resultados\n",
        "    df_resultados = pd.DataFrame(resultados)\n",
        "\n",
        "    # Ordenar por diferencia absoluta (mayor cambio primero)\n",
        "    df_resultados['Abs Difference'] = df_resultados['Diferencia (v2-v1)'].abs()\n",
        "    df_resultados = df_resultados.sort_values('Abs Difference', ascending=False)\n",
        "    df_resultados = df_resultados.drop('Abs Difference', axis=1)\n",
        "\n",
        "    # Mostrar resultados\n",
        "    print(\"Comparación de promedios entre versiones:\")\n",
        "    print(\"=\"*60)\n",
        "    print(df_resultados.to_string(index=False, float_format=\"%.2f\"))\n",
        "\n",
        "\n",
        "# Ejecutar la función\n",
        "comparar_promedios_subescalas()"
      ],
      "metadata": {
        "colab": {
          "base_uri": "https://localhost:8080/"
        },
        "id": "UafKB50IOirv",
        "outputId": "7048391b-812b-4fa4-de8d-3bc40cef88de"
      },
      "execution_count": 21,
      "outputs": [
        {
          "output_type": "stream",
          "name": "stdout",
          "text": [
            "Comparación de promedios entre versiones:\n",
            "============================================================\n",
            "             Subescala  Promedio v1  Promedio v2  Diferencia (v2-v1)\n",
            "             Enjoyment         4.38         4.82                0.44\n",
            "             Narrative         4.43         4.84                0.41\n",
            "     Visual Aesthetics         4.40         4.82                0.41\n",
            "   Social Connectivity         4.47         4.86                0.39\n",
            "      Play Engrossment         4.53         4.92                0.39\n",
            " Usability/Playability         4.45         4.84                0.39\n",
            "            Aesthetics         4.53         4.89                0.37\n",
            "Personal Gratification         4.46         4.81                0.35\n",
            "      Creative Freedom         5.03         5.02               -0.01\n"
          ]
        }
      ]
    },
    {
      "cell_type": "markdown",
      "source": [
        "Prueba T pareada en donde se hizo v2-v1, por lo que la intepretación es: si es un resultado negativo, resulta que la v1 es mejor que v2, si por otro lado es positivo, resulta que v1 fue mejor que v1"
      ],
      "metadata": {
        "id": "vijBumABZUqm"
      }
    },
    {
      "cell_type": "code",
      "source": [
        "def prueba_t_pareada():\n",
        "    # Verificar usuarios comunes\n",
        "    usuarios_comunes = sorted(set(v1_data['user_id']).intersection(set(v2_data['user_id'])))\n",
        "\n",
        "    if not usuarios_comunes:\n",
        "        print(\"Error: No hay usuarios comunes entre v1 y v2 para prueba pareada.\")\n",
        "        return\n",
        "\n",
        "    # Crear DataFrames alineados\n",
        "    v1_aligned = v1_data.set_index('user_id').loc[usuarios_comunes].sort_index()\n",
        "    v2_aligned = v2_data.set_index('user_id').loc[usuarios_comunes].sort_index()\n",
        "\n",
        "    # Verificar alineación\n",
        "    if not all(v1_aligned.index == v2_aligned.index):\n",
        "        print(\"Error: No se pudieron alinear correctamente los usuarios.\")\n",
        "        return\n",
        "\n",
        "    resultados = []\n",
        "\n",
        "    for subescala, columnas in subdimensiones.items():\n",
        "        try:\n",
        "            # Calcular puntuaciones promedio\n",
        "            v1_scores = v1_aligned[columnas].mean(axis=1)\n",
        "            v2_scores = v2_aligned[columnas].mean(axis=1)\n",
        "            diferencias = v2_scores - v1_scores\n",
        "\n",
        "            # Calcular métricas\n",
        "            mean_diff = np.mean(diferencias)\n",
        "            std_diff = np.std(diferencias, ddof=1)\n",
        "\n",
        "            # Manejar caso donde todas las diferencias son iguales\n",
        "            cohen_d = np.inf if (std_diff == 0 and mean_diff != 0) else (0 if std_diff == 0 else mean_diff/std_diff)\n",
        "\n",
        "            # Prueba t pareada\n",
        "            t_stat, p_value = ttest_rel(v1_scores, v2_scores)\n",
        "\n",
        "            resultados.append({\n",
        "                'Subescala': subescala,\n",
        "                't-statistic': t_stat,\n",
        "                'p-value': p_value,\n",
        "                'Diferencia media': mean_diff,\n",
        "                'Desv. estándar dif.': std_diff,\n",
        "                'Cohen\\'s d': cohen_d,\n",
        "                'Significativo (p < 0.05)': p_value < 0.05\n",
        "            })\n",
        "        except Exception as e:\n",
        "            print(f\"Error procesando {subescala}: {str(e)}\")\n",
        "            continue\n",
        "\n",
        "    # Crear y mostrar resultados\n",
        "    if not resultados:\n",
        "        print(\"No se pudieron calcular resultados para ninguna subescala.\")\n",
        "        return\n",
        "\n",
        "    df_resultados = pd.DataFrame(resultados)\n",
        "    df_resultados = df_resultados.sort_values('p-value')\n",
        "\n",
        "    print(\"\\nResultados de la prueba t pareada (v2 vs v1):\")\n",
        "    print(\"=\"*90)\n",
        "\n",
        "    # Configurar formato para mostrar p-values con notación científica cuando son muy pequeños\n",
        "    pd.set_option('display.float_format', lambda x: '%.2e' % x if x < 0.001 else '%.4f' % x)\n",
        "    print(df_resultados.to_string(index=False))\n",
        "\n",
        "    # Restablecer el formato por defecto\n",
        "    pd.reset_option('display.float_format')\n",
        "\n",
        "# Ejecutar la función corregida\n",
        "prueba_t_pareada()"
      ],
      "metadata": {
        "colab": {
          "base_uri": "https://localhost:8080/"
        },
        "id": "USqJPzA_O51r",
        "outputId": "2d3821b9-1ce8-447d-bebc-8b5fe596cecb"
      },
      "execution_count": 22,
      "outputs": [
        {
          "output_type": "stream",
          "name": "stdout",
          "text": [
            "\n",
            "Resultados de la prueba t pareada (v2 vs v1):\n",
            "==========================================================================================\n",
            "             Subescala  t-statistic  p-value  Diferencia media  Desv. estándar dif.  Cohen's d  Significativo (p < 0.05)\n",
            "      Play Engrossment    -1.65e+01 1.23e-21            0.3914               0.1678     2.3324                      True\n",
            "             Enjoyment    -1.44e+01 2.83e-19            0.4433               0.2172     2.0411                      True\n",
            " Usability/Playability    -1.35e+01 4.43e-18            0.3886               0.2042     1.9032                      True\n",
            "   Social Connectivity    -1.32e+01 9.04e-18            0.3920               0.2098     1.8684                      True\n",
            "     Visual Aesthetics    -1.26e+01 5.53e-17            0.4100               0.2301     1.7816                      True\n",
            "             Narrative    -1.20e+01 3.86e-16            0.4150               0.2454     1.6910                      True\n",
            "            Aesthetics    -1.12e+01 3.61e-15            0.3700               0.2328     1.5895                      True\n",
            "Personal Gratification    -9.43e+00 1.36e-12            0.3500               0.2624     1.3336                      True\n",
            "      Creative Freedom       0.5735   0.5690         -1.00e-02               0.1233  -8.11e-02                     False\n"
          ]
        }
      ]
    },
    {
      "cell_type": "code",
      "source": [
        "def resumen_estadistico_subescalas():\n",
        "    # Verificar usuarios comunes\n",
        "    usuarios_comunes = sorted(set(v1_data['user_id']).intersection(set(v2_data['user_id'])))\n",
        "\n",
        "    if not usuarios_comunes:\n",
        "        print(\"Error: No hay usuarios comunes entre v1 y v2.\")\n",
        "        return\n",
        "\n",
        "    # Preparar DataFrames alineados\n",
        "    v1_aligned = v1_data.set_index('user_id').loc[usuarios_comunes].sort_index()\n",
        "    v2_aligned = v2_data.set_index('user_id').loc[usuarios_comunes].sort_index()\n",
        "\n",
        "    resultados = []\n",
        "\n",
        "    for subescala, columnas in subdimensiones.items():\n",
        "        # Estadísticas descriptivas\n",
        "        media_v1 = v1_aligned[columnas].mean(axis=1).mean()\n",
        "        std_v1 = v1_aligned[columnas].mean(axis=1).std(ddof=1)\n",
        "\n",
        "        media_v2 = v2_aligned[columnas].mean(axis=1).mean()\n",
        "        std_v2 = v2_aligned[columnas].mean(axis=1).std(ddof=1)\n",
        "\n",
        "        # Prueba t pareada (CORRECCIÓN: paréntesis cerrado correctamente)\n",
        "        t_stat, p_value = ttest_rel(\n",
        "            v2_aligned[columnas].mean(axis=1),\n",
        "            v1_aligned[columnas].mean(axis=1))\n",
        "\n",
        "        # Formatear p-value\n",
        "        p_formatted = f\"{p_value:.4f}\" if p_value >= 0.0001 else \"< 0.0001\"\n",
        "\n",
        "        resultados.append({\n",
        "            'Subescala': subescala,\n",
        "            'Media v1': f\"{media_v1:.2f} ± {std_v1:.2f}\",\n",
        "            'Media v2': f\"{media_v2:.2f} ± {std_v2:.2f}\",\n",
        "            'Valor p': p_formatted,\n",
        "            'Significativo': '*' if p_value < 0.05 else 'ns'\n",
        "        })\n",
        "\n",
        "    # Crear y mostrar tabla\n",
        "    df_resultados = pd.DataFrame(resultados)\n",
        "\n",
        "    print(\"Resumen estadístico por subescala:\")\n",
        "    print(\"=\"*85)\n",
        "    print(df_resultados.to_string(index=False))\n",
        "\n",
        "# Ejecutar la función corregida\n",
        "resumen_estadistico_subescalas()"
      ],
      "metadata": {
        "colab": {
          "base_uri": "https://localhost:8080/"
        },
        "id": "3IjOCS06WZdV",
        "outputId": "d7f19ba0-056a-4b81-9cbc-053c47f1e492"
      },
      "execution_count": 23,
      "outputs": [
        {
          "output_type": "stream",
          "name": "stdout",
          "text": [
            "Resumen estadístico por subescala:\n",
            "=====================================================================================\n",
            "             Subescala    Media v1    Media v2  Valor p Significativo\n",
            "            Aesthetics 4.53 ± 0.45 4.89 ± 0.43 < 0.0001             *\n",
            "      Play Engrossment 4.53 ± 0.38 4.92 ± 0.40 < 0.0001             *\n",
            "             Enjoyment 4.38 ± 0.35 4.82 ± 0.36 < 0.0001             *\n",
            "Personal Gratification 4.46 ± 0.45 4.81 ± 0.45 < 0.0001             *\n",
            "      Creative Freedom 5.03 ± 0.30 5.02 ± 0.29   0.5690            ns\n",
            "   Social Connectivity 4.47 ± 0.40 4.86 ± 0.39 < 0.0001             *\n",
            "             Narrative 4.42 ± 0.54 4.84 ± 0.51 < 0.0001             *\n",
            " Usability/Playability 4.45 ± 0.35 4.84 ± 0.38 < 0.0001             *\n",
            "     Visual Aesthetics 4.41 ± 0.43 4.82 ± 0.38 < 0.0001             *\n"
          ]
        }
      ]
    },
    {
      "cell_type": "code",
      "source": [
        "def grafico_comparativo_play_usability():\n",
        "    # Seleccionar las subdimensiones a comparar\n",
        "    subescalas_comparar = [\"Play Engrossment\", \"Usability/Playability\"]\n",
        "\n",
        "    # Preparar datos para el gráfico\n",
        "    medias_v1 = []\n",
        "    medias_v2 = []\n",
        "    errores_v1 = []\n",
        "    errores_v2 = []\n",
        "\n",
        "    for subescala in subescalas_comparar:\n",
        "        columnas = subdimensiones[subescala]\n",
        "\n",
        "        # Calcular medias y desviaciones estándar\n",
        "        medias_v1.append(v1_data[columnas].mean(axis=1).mean())\n",
        "        medias_v2.append(v2_data[columnas].mean(axis=1).mean())\n",
        "\n",
        "        errores_v1.append(v1_data[columnas].mean(axis=1).std(ddof=1))\n",
        "        errores_v2.append(v2_data[columnas].mean(axis=1).std(ddof=1))\n",
        "\n",
        "    # Configurar el gráfico\n",
        "    plt.figure(figsize=(10, 6))\n",
        "\n",
        "    # Posiciones de las barras\n",
        "    x = np.arange(len(subescalas_comparar))\n",
        "    width = 0.35  # Ancho de las barras\n",
        "\n",
        "    # Crear barras para v1 y v2\n",
        "    bars_v1 = plt.bar(x - width/2, medias_v1, width, label='Versión 1',\n",
        "                      color='skyblue', edgecolor='black', yerr=errores_v1, capsize=5)\n",
        "    bars_v2 = plt.bar(x + width/2, medias_v2, width, label='Versión 2',\n",
        "                      color='lightgreen', edgecolor='black', yerr=errores_v2, capsize=5)\n",
        "\n",
        "    # Añadir etiquetas y título\n",
        "    plt.xlabel('Subescalas', fontsize=12)\n",
        "    plt.ylabel('Puntuación Media', fontsize=12)\n",
        "    plt.title('Comparación de Play Engrossment y Usability entre Versiones', fontsize=14, pad=20)\n",
        "    plt.xticks(x, subescalas_comparar)\n",
        "    plt.legend()\n",
        "\n",
        "    # Añadir los valores encima de las barras\n",
        "    for bars in [bars_v1, bars_v2]:\n",
        "        for bar in bars:\n",
        "            height = bar.get_height()\n",
        "            plt.text(bar.get_x() + bar.get_width()/2., height,\n",
        "                    f'{height:.2f}',\n",
        "                    ha='center', va='bottom')\n",
        "\n",
        "    # Ajustar límites del eje y\n",
        "    plt.ylim(0, 6)\n",
        "\n",
        "    # Mostrar grid\n",
        "    plt.grid(axis='y', alpha=0.3)\n",
        "\n",
        "    plt.tight_layout()\n",
        "    plt.show()\n",
        "\n",
        "# Ejecutar la función\n",
        "grafico_comparativo_play_usability()"
      ],
      "metadata": {
        "colab": {
          "base_uri": "https://localhost:8080/",
          "height": 607
        },
        "id": "NRJo7W5ZUEp-",
        "outputId": "b52dc124-5c68-4263-b29d-50d0f38e6560"
      },
      "execution_count": 25,
      "outputs": [
        {
          "output_type": "display_data",
          "data": {
            "text/plain": [
              "<Figure size 1000x600 with 1 Axes>"
            ],
            "image/png": "[encoded data removed]"
          },
          "metadata": {}
        }
      ]
    }
  ]
}